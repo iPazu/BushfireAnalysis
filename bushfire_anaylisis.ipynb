{
 "cells": [
  {
   "cell_type": "markdown",
   "metadata": {},
   "source": [
    "Selection des données"
   ]
  },
  {
   "cell_type": "code",
   "execution_count": 12,
   "metadata": {},
   "outputs": [
    {
     "name": "stdout",
     "output_type": "stream",
     "text": [
      "         Unnamed: 0   latitude   longitude    acq_date\n",
      "0                 0 -32.756947  116.403992  2012-01-20\n",
      "1                 1 -19.767071  147.392746  2012-01-20\n",
      "2                 2 -19.772953  147.380814  2012-01-20\n",
      "3                 3 -23.693417  147.555527  2012-01-20\n",
      "4                 4 -24.239748  147.038422  2012-01-20\n",
      "...             ...        ...         ...         ...\n",
      "2499995     2499995 -12.968535  134.165405  2013-06-30\n",
      "2499996     2499996 -12.969051  134.169708  2013-06-30\n",
      "2499997     2499997 -12.962164  134.161880  2013-06-30\n",
      "2499998     2499998 -12.966002  134.159805  2013-06-30\n",
      "2499999     2499999 -12.966486  134.164124  2013-06-30\n",
      "\n",
      "[2500000 rows x 4 columns]\n"
     ]
    }
   ],
   "source": [
    "import pandas as pd\n",
    "\n",
    "df1 = pd.read_csv('datasets/fires.csv', header=0)\n",
    "df2 = pd.read_csv('datasets/weatherAUS.csv', header=0, usecols=['Date', 'Location', 'MinTemp', 'MaxTemp', 'Rainfall'])\n",
    "\n",
    "print(df1)"
   ]
  },
  {
   "cell_type": "markdown",
   "metadata": {},
   "source": []
  },
  {
   "cell_type": "code",
   "execution_count": 25,
   "metadata": {},
   "outputs": [
    {
     "data": {
      "image/png": "[encoded data removed]",
      "text/plain": [
       "<Figure size 432x288 with 1 Axes>"
      ]
     },
     "metadata": {
      "needs_background": "light"
     },
     "output_type": "display_data"
    }
   ],
   "source": [
    "import matplotlib.pyplot as plt\n",
    "\n",
    "df3 = pd.read_csv('datasets/stationsCoordinates.csv')\n",
    "\n",
    "X = df3['Longitude'].tolist()\n",
    "Y = df3['Latitude'].tolist()\n",
    "\n",
    "plt.scatter(X, Y)\n",
    "plt.show()"
   ]
  }
 ],
 "metadata": {
  "interpreter": {
   "hash": "916dbcbb3f70747c44a77c7bcd40155683ae19c65e1c03b4aa3499c5328201f1"
  },
  "kernelspec": {
   "display_name": "Python 3.8.10 64-bit",
   "language": "python",
   "name": "python3"
  },
  "language_info": {
   "codemirror_mode": {
    "name": "ipython",
    "version": 3
   },
   "file_extension": ".py",
   "mimetype": "text/x-python",
   "name": "python",
   "nbconvert_exporter": "python",
   "pygments_lexer": "ipython3",
   "version": "3.8.10"
  },
  "orig_nbformat": 4
 },
 "nbformat": 4,
 "nbformat_minor": 2
}
